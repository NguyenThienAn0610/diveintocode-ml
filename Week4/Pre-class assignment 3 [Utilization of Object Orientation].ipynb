{
 "cells": [
  {
   "cell_type": "code",
   "execution_count": 1,
   "metadata": {},
   "outputs": [
    {
     "name": "stdout",
     "output_type": "stream",
     "text": [
      "Mean: [4.86 3.31 1.45 0.22]\n",
      "Variance: [0.0764 0.0849 0.0105 0.0056]\n"
     ]
    }
   ],
   "source": [
    "import warnings\n",
    "import numpy as np\n",
    "from sklearn.preprocessing import StandardScaler\n",
    "from sklearn.datasets import load_iris\n",
    "data = load_iris()\n",
    "X = data.data[:10]\n",
    "scaler = StandardScaler()\n",
    "scaler.fit(X)\n",
    "print(\"Mean:\", scaler.mean_)\n",
    "print(\"Variance:\", scaler.var_)\n",
    "X_std = scaler.transform(X)"
   ]
  },
  {
   "cell_type": "markdown",
   "metadata": {},
   "source": [
    "# Problem 1"
   ]
  },
  {
   "cell_type": "markdown",
   "metadata": {},
   "source": [
    "<blockquote>\n",
    "    <ul>\n",
    "        <li><b>Pandas</b>: DataFrame.</li>\n",
    "        <li><b>matplotlib</b>: pyplot, colors.</li>\n",
    "        <li><b>sklearn</b>: datasets, preprocessing, metrics.</li>\n",
    "    </ul>\n",
    "</blockquote>"
   ]
  },
  {
   "cell_type": "code",
   "execution_count": 2,
   "metadata": {},
   "outputs": [
    {
     "name": "stdout",
     "output_type": "stream",
     "text": [
      "Mean: [4.86 3.31 1.45 0.22]\n",
      "Variance : [0.0764 0.0849 0.0105 0.0056]\n"
     ]
    }
   ],
   "source": [
    "print(\"Mean: {}\".format(scaler.mean_))\n",
    "print(\"Variance : {}\".format(scaler.var_))"
   ]
  },
  {
   "cell_type": "markdown",
   "metadata": {},
   "source": [
    "# Problem 2"
   ]
  },
  {
   "cell_type": "markdown",
   "metadata": {},
   "source": [
    "<blockquote>\n",
    "In <b>numpy</b> I have used method such as sum(), max(), min(), array(), copy() and instance variables such as dtype, reshape, shape, mean, var.</li>\n",
    "</blockquote>"
   ]
  },
  {
   "cell_type": "markdown",
   "metadata": {},
   "source": [
    "# Problem 3"
   ]
  },
  {
   "cell_type": "code",
   "execution_count": 3,
   "metadata": {},
   "outputs": [],
   "source": [
    "class ScratchStandardScaler():\n",
    "    \"\"\"\n",
    "    Class for standardization \n",
    "    Attributes\n",
    "    ----------\n",
    "    mean_ : ndarray, shape(n_features,)\n",
    "    var_ : ndarray, shape(n_features,)\n",
    "    \"\"\"\n",
    "    def fit(self, X):\n",
    "        \"\"\"\n",
    "        Calculate the mean and standard deviation for standardization\n",
    "        Parameters\n",
    "        ----------\n",
    "        X : ndarray, shape (n_samples, n_features)\n",
    "        \"\"\"\n",
    "        self.mean_ = np.mean(X, axis = 0)\n",
    "        self.var_ = np.var(X, axis = 0)\n",
    "    def transform(self, X):\n",
    "        \"\"\"\n",
    "        Standardize using the value obtained in fit\n",
    "        Parameters\n",
    "        ----------\n",
    "        X : ndarray, shape (n_samples, n_features)\n",
    "        Returns\n",
    "        ----------\n",
    "        X_scaled : ndarray, shape (n_samples, n_features)\n",
    "        \"\"\"\n",
    "        X_scaled = (X - self.mean_) / np.sqrt(self.var_)\n",
    "        return X_scaled"
   ]
  },
  {
   "cell_type": "code",
   "execution_count": 4,
   "metadata": {},
   "outputs": [
    {
     "name": "stdout",
     "output_type": "stream",
     "text": [
      "Mean : [4.86 3.31 1.45 0.22]\n",
      "Var : [0.0764 0.0849 0.0105 0.0056]\n",
      "[[ 0.86828953  0.65207831 -0.48795004 -0.26726124]\n",
      " [ 0.14471492 -1.06391725 -0.48795004 -0.26726124]\n",
      " [-0.57885968 -0.37751902 -1.46385011 -0.26726124]\n",
      " [-0.94064699 -0.72071813  0.48795004 -0.26726124]\n",
      " [ 0.50650222  0.99527742 -0.48795004 -0.26726124]\n",
      " [ 1.95365143  2.02487476  2.43975018  2.40535118]\n",
      " [-0.94064699  0.3088792  -0.48795004  1.06904497]\n",
      " [ 0.50650222  0.3088792   0.48795004 -0.26726124]\n",
      " [-1.66422159 -1.40711636 -0.48795004 -0.26726124]\n",
      " [ 0.14471492 -0.72071813  0.48795004 -1.60356745]]\n"
     ]
    }
   ],
   "source": [
    "data = load_iris()\n",
    "X = data.data[:10]\n",
    "scratch_scaler = ScratchStandardScaler()\n",
    "scratch_scaler.fit(X)\n",
    "print(\"Mean : {}\".format(scratch_scaler.mean_))\n",
    "print(\"Var : {}\".format(scratch_scaler.var_))\n",
    "X_std = scratch_scaler.transform(X)\n",
    "print(X_std)"
   ]
  },
  {
   "cell_type": "code",
   "execution_count": 5,
   "metadata": {},
   "outputs": [
    {
     "name": "stdout",
     "output_type": "stream",
     "text": [
      "initial value 5 was set\n",
      "value : 5\n",
      "value : 8\n"
     ]
    }
   ],
   "source": [
    "class ExampleClass():\n",
    "    \"\"\"\n",
    "    A simple class for explanation\n",
    "    Parameters\n",
    "    ----------\n",
    "    value : float or int\n",
    "        initial value\n",
    "    Attributes\n",
    "    ----------\n",
    "    value : float or int\n",
    "        Calculation result\n",
    "    \"\"\"\n",
    "    def __init__(self, value):\n",
    "        self.value = value\n",
    "        print(\"initial value {} was set\".format(self.value))\n",
    "    def add(self, value2):\n",
    "        \"\"\"\n",
    "        Add the received argument to self.value\n",
    "        \"\"\"\n",
    "        self.value += value2\n",
    "example = ExampleClass(5)\n",
    "print(\"value : {}\".format(example.value))\n",
    "example.add(3)\n",
    "print(\"value : {}\".format(example.value))"
   ]
  },
  {
   "cell_type": "markdown",
   "metadata": {},
   "source": [
    "# Problem 4"
   ]
  },
  {
   "cell_type": "code",
   "execution_count": 6,
   "metadata": {},
   "outputs": [
    {
     "name": "stdout",
     "output_type": "stream",
     "text": [
      "Initial value 5 has been set\n",
      "value : 5\n",
      "value : 8\n",
      "value : 6\n",
      "value : 30\n",
      "value : 3.0\n"
     ]
    },
    {
     "name": "stderr",
     "output_type": "stream",
     "text": [
      "<ipython-input-6-c79dd47bdb54>:12: DeprecationWarning: Not a number\n",
      "  warnings.warn(\"Not a number\", DeprecationWarning)\n"
     ]
    }
   ],
   "source": [
    "class ExampleClass():\n",
    "    \"\"\"\n",
    "    Parameters\n",
    "    ----------\n",
    "    value : float or int\n",
    "    Attributes\n",
    "    ----------\n",
    "    value : float or int\n",
    "    \"\"\"\n",
    "    def __init__(self, value):\n",
    "        if not isinstance(value, (float, int)):\n",
    "            warnings.warn(\"Not a number\", DeprecationWarning)\n",
    "        else:\n",
    "            self.value = value\n",
    "            print(\"Initial value {} has been set\".format(self.value))\n",
    "    def add(self, value2):\n",
    "        \"\"\"\n",
    "        Add the received argument to self.value \n",
    "        \"\"\"\n",
    "        self.value += value2\n",
    "    def subtract(self, value2):\n",
    "        \"\"\"\n",
    "        Add the received argument to self.value \n",
    "        \"\"\"\n",
    "        self.value -= value2\n",
    "    def multiply(self, value2):\n",
    "        \"\"\"\n",
    "        Add the received argument to self.value \n",
    "        \"\"\"\n",
    "        self.value *= value2\n",
    "    def divide(self, value2):\n",
    "        \"\"\"\n",
    "        Add the received argument to self.value \n",
    "        \"\"\"\n",
    "        self.value /= value2\n",
    "example = ExampleClass(5)\n",
    "print(\"value : {}\".format(example.value))\n",
    "example.add(3)\n",
    "print(\"value : {}\".format(example.value))\n",
    "example.subtract(2)\n",
    "print(\"value : {}\".format(example.value))\n",
    "example.multiply(5)\n",
    "print(\"value : {}\".format(example.value))\n",
    "example.divide(10)\n",
    "print(\"value : {}\".format(example.value))\n",
    "wrong_example = ExampleClass(\"bruh\")"
   ]
  },
  {
   "cell_type": "code",
   "execution_count": null,
   "metadata": {},
   "outputs": [],
   "source": []
  }
 ],
 "metadata": {
  "kernelspec": {
   "display_name": "Python 3",
   "language": "python",
   "name": "python3"
  },
  "language_info": {
   "codemirror_mode": {
    "name": "ipython",
    "version": 3
   },
   "file_extension": ".py",
   "mimetype": "text/x-python",
   "name": "python",
   "nbconvert_exporter": "python",
   "pygments_lexer": "ipython3",
   "version": "3.8.6"
  }
 },
 "nbformat": 4,
 "nbformat_minor": 4
}
