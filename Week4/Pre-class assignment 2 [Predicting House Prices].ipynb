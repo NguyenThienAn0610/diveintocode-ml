{
 "cells": [
  {
   "cell_type": "code",
   "execution_count": 48,
   "metadata": {},
   "outputs": [],
   "source": [
    "import pandas as pd\n",
    "import matplotlib.pyplot as plt\n",
    "from sklearn import datasets\n",
    "import seaborn as sns\n",
    "from sklearn.model_selection import train_test_split\n",
    "from sklearn.metrics import mean_squared_error\n",
    "from sklearn.preprocessing import StandardScaler\n",
    "from sklearn.linear_model import LinearRegression\n",
    "from sklearn.tree import DecisionTreeRegressor\n",
    "from sklearn.svm import SVR\n",
    "from sklearn.ensemble import RandomForestRegressor\n",
    "%matplotlib inline"
   ]
  },
  {
   "cell_type": "markdown",
   "metadata": {},
   "source": [
    "# Problem 1"
   ]
  },
  {
   "cell_type": "code",
   "execution_count": 2,
   "metadata": {},
   "outputs": [
    {
     "data": {
      "text/html": [
       "<div>\n",
       "<style scoped>\n",
       "    .dataframe tbody tr th:only-of-type {\n",
       "        vertical-align: middle;\n",
       "    }\n",
       "\n",
       "    .dataframe tbody tr th {\n",
       "        vertical-align: top;\n",
       "    }\n",
       "\n",
       "    .dataframe thead th {\n",
       "        text-align: right;\n",
       "    }\n",
       "</style>\n",
       "<table border=\"1\" class=\"dataframe\">\n",
       "  <thead>\n",
       "    <tr style=\"text-align: right;\">\n",
       "      <th></th>\n",
       "      <th>Id</th>\n",
       "      <th>MSSubClass</th>\n",
       "      <th>MSZoning</th>\n",
       "      <th>LotFrontage</th>\n",
       "      <th>LotArea</th>\n",
       "      <th>Street</th>\n",
       "      <th>Alley</th>\n",
       "      <th>LotShape</th>\n",
       "      <th>LandContour</th>\n",
       "      <th>Utilities</th>\n",
       "      <th>...</th>\n",
       "      <th>PoolArea</th>\n",
       "      <th>PoolQC</th>\n",
       "      <th>Fence</th>\n",
       "      <th>MiscFeature</th>\n",
       "      <th>MiscVal</th>\n",
       "      <th>MoSold</th>\n",
       "      <th>YrSold</th>\n",
       "      <th>SaleType</th>\n",
       "      <th>SaleCondition</th>\n",
       "      <th>SalePrice</th>\n",
       "    </tr>\n",
       "  </thead>\n",
       "  <tbody>\n",
       "    <tr>\n",
       "      <th>0</th>\n",
       "      <td>1</td>\n",
       "      <td>60</td>\n",
       "      <td>RL</td>\n",
       "      <td>65.0</td>\n",
       "      <td>8450</td>\n",
       "      <td>Pave</td>\n",
       "      <td>NaN</td>\n",
       "      <td>Reg</td>\n",
       "      <td>Lvl</td>\n",
       "      <td>AllPub</td>\n",
       "      <td>...</td>\n",
       "      <td>0</td>\n",
       "      <td>NaN</td>\n",
       "      <td>NaN</td>\n",
       "      <td>NaN</td>\n",
       "      <td>0</td>\n",
       "      <td>2</td>\n",
       "      <td>2008</td>\n",
       "      <td>WD</td>\n",
       "      <td>Normal</td>\n",
       "      <td>208500</td>\n",
       "    </tr>\n",
       "    <tr>\n",
       "      <th>1</th>\n",
       "      <td>2</td>\n",
       "      <td>20</td>\n",
       "      <td>RL</td>\n",
       "      <td>80.0</td>\n",
       "      <td>9600</td>\n",
       "      <td>Pave</td>\n",
       "      <td>NaN</td>\n",
       "      <td>Reg</td>\n",
       "      <td>Lvl</td>\n",
       "      <td>AllPub</td>\n",
       "      <td>...</td>\n",
       "      <td>0</td>\n",
       "      <td>NaN</td>\n",
       "      <td>NaN</td>\n",
       "      <td>NaN</td>\n",
       "      <td>0</td>\n",
       "      <td>5</td>\n",
       "      <td>2007</td>\n",
       "      <td>WD</td>\n",
       "      <td>Normal</td>\n",
       "      <td>181500</td>\n",
       "    </tr>\n",
       "    <tr>\n",
       "      <th>2</th>\n",
       "      <td>3</td>\n",
       "      <td>60</td>\n",
       "      <td>RL</td>\n",
       "      <td>68.0</td>\n",
       "      <td>11250</td>\n",
       "      <td>Pave</td>\n",
       "      <td>NaN</td>\n",
       "      <td>IR1</td>\n",
       "      <td>Lvl</td>\n",
       "      <td>AllPub</td>\n",
       "      <td>...</td>\n",
       "      <td>0</td>\n",
       "      <td>NaN</td>\n",
       "      <td>NaN</td>\n",
       "      <td>NaN</td>\n",
       "      <td>0</td>\n",
       "      <td>9</td>\n",
       "      <td>2008</td>\n",
       "      <td>WD</td>\n",
       "      <td>Normal</td>\n",
       "      <td>223500</td>\n",
       "    </tr>\n",
       "    <tr>\n",
       "      <th>3</th>\n",
       "      <td>4</td>\n",
       "      <td>70</td>\n",
       "      <td>RL</td>\n",
       "      <td>60.0</td>\n",
       "      <td>9550</td>\n",
       "      <td>Pave</td>\n",
       "      <td>NaN</td>\n",
       "      <td>IR1</td>\n",
       "      <td>Lvl</td>\n",
       "      <td>AllPub</td>\n",
       "      <td>...</td>\n",
       "      <td>0</td>\n",
       "      <td>NaN</td>\n",
       "      <td>NaN</td>\n",
       "      <td>NaN</td>\n",
       "      <td>0</td>\n",
       "      <td>2</td>\n",
       "      <td>2006</td>\n",
       "      <td>WD</td>\n",
       "      <td>Abnorml</td>\n",
       "      <td>140000</td>\n",
       "    </tr>\n",
       "    <tr>\n",
       "      <th>4</th>\n",
       "      <td>5</td>\n",
       "      <td>60</td>\n",
       "      <td>RL</td>\n",
       "      <td>84.0</td>\n",
       "      <td>14260</td>\n",
       "      <td>Pave</td>\n",
       "      <td>NaN</td>\n",
       "      <td>IR1</td>\n",
       "      <td>Lvl</td>\n",
       "      <td>AllPub</td>\n",
       "      <td>...</td>\n",
       "      <td>0</td>\n",
       "      <td>NaN</td>\n",
       "      <td>NaN</td>\n",
       "      <td>NaN</td>\n",
       "      <td>0</td>\n",
       "      <td>12</td>\n",
       "      <td>2008</td>\n",
       "      <td>WD</td>\n",
       "      <td>Normal</td>\n",
       "      <td>250000</td>\n",
       "    </tr>\n",
       "    <tr>\n",
       "      <th>...</th>\n",
       "      <td>...</td>\n",
       "      <td>...</td>\n",
       "      <td>...</td>\n",
       "      <td>...</td>\n",
       "      <td>...</td>\n",
       "      <td>...</td>\n",
       "      <td>...</td>\n",
       "      <td>...</td>\n",
       "      <td>...</td>\n",
       "      <td>...</td>\n",
       "      <td>...</td>\n",
       "      <td>...</td>\n",
       "      <td>...</td>\n",
       "      <td>...</td>\n",
       "      <td>...</td>\n",
       "      <td>...</td>\n",
       "      <td>...</td>\n",
       "      <td>...</td>\n",
       "      <td>...</td>\n",
       "      <td>...</td>\n",
       "      <td>...</td>\n",
       "    </tr>\n",
       "    <tr>\n",
       "      <th>1455</th>\n",
       "      <td>1456</td>\n",
       "      <td>60</td>\n",
       "      <td>RL</td>\n",
       "      <td>62.0</td>\n",
       "      <td>7917</td>\n",
       "      <td>Pave</td>\n",
       "      <td>NaN</td>\n",
       "      <td>Reg</td>\n",
       "      <td>Lvl</td>\n",
       "      <td>AllPub</td>\n",
       "      <td>...</td>\n",
       "      <td>0</td>\n",
       "      <td>NaN</td>\n",
       "      <td>NaN</td>\n",
       "      <td>NaN</td>\n",
       "      <td>0</td>\n",
       "      <td>8</td>\n",
       "      <td>2007</td>\n",
       "      <td>WD</td>\n",
       "      <td>Normal</td>\n",
       "      <td>175000</td>\n",
       "    </tr>\n",
       "    <tr>\n",
       "      <th>1456</th>\n",
       "      <td>1457</td>\n",
       "      <td>20</td>\n",
       "      <td>RL</td>\n",
       "      <td>85.0</td>\n",
       "      <td>13175</td>\n",
       "      <td>Pave</td>\n",
       "      <td>NaN</td>\n",
       "      <td>Reg</td>\n",
       "      <td>Lvl</td>\n",
       "      <td>AllPub</td>\n",
       "      <td>...</td>\n",
       "      <td>0</td>\n",
       "      <td>NaN</td>\n",
       "      <td>MnPrv</td>\n",
       "      <td>NaN</td>\n",
       "      <td>0</td>\n",
       "      <td>2</td>\n",
       "      <td>2010</td>\n",
       "      <td>WD</td>\n",
       "      <td>Normal</td>\n",
       "      <td>210000</td>\n",
       "    </tr>\n",
       "    <tr>\n",
       "      <th>1457</th>\n",
       "      <td>1458</td>\n",
       "      <td>70</td>\n",
       "      <td>RL</td>\n",
       "      <td>66.0</td>\n",
       "      <td>9042</td>\n",
       "      <td>Pave</td>\n",
       "      <td>NaN</td>\n",
       "      <td>Reg</td>\n",
       "      <td>Lvl</td>\n",
       "      <td>AllPub</td>\n",
       "      <td>...</td>\n",
       "      <td>0</td>\n",
       "      <td>NaN</td>\n",
       "      <td>GdPrv</td>\n",
       "      <td>Shed</td>\n",
       "      <td>2500</td>\n",
       "      <td>5</td>\n",
       "      <td>2010</td>\n",
       "      <td>WD</td>\n",
       "      <td>Normal</td>\n",
       "      <td>266500</td>\n",
       "    </tr>\n",
       "    <tr>\n",
       "      <th>1458</th>\n",
       "      <td>1459</td>\n",
       "      <td>20</td>\n",
       "      <td>RL</td>\n",
       "      <td>68.0</td>\n",
       "      <td>9717</td>\n",
       "      <td>Pave</td>\n",
       "      <td>NaN</td>\n",
       "      <td>Reg</td>\n",
       "      <td>Lvl</td>\n",
       "      <td>AllPub</td>\n",
       "      <td>...</td>\n",
       "      <td>0</td>\n",
       "      <td>NaN</td>\n",
       "      <td>NaN</td>\n",
       "      <td>NaN</td>\n",
       "      <td>0</td>\n",
       "      <td>4</td>\n",
       "      <td>2010</td>\n",
       "      <td>WD</td>\n",
       "      <td>Normal</td>\n",
       "      <td>142125</td>\n",
       "    </tr>\n",
       "    <tr>\n",
       "      <th>1459</th>\n",
       "      <td>1460</td>\n",
       "      <td>20</td>\n",
       "      <td>RL</td>\n",
       "      <td>75.0</td>\n",
       "      <td>9937</td>\n",
       "      <td>Pave</td>\n",
       "      <td>NaN</td>\n",
       "      <td>Reg</td>\n",
       "      <td>Lvl</td>\n",
       "      <td>AllPub</td>\n",
       "      <td>...</td>\n",
       "      <td>0</td>\n",
       "      <td>NaN</td>\n",
       "      <td>NaN</td>\n",
       "      <td>NaN</td>\n",
       "      <td>0</td>\n",
       "      <td>6</td>\n",
       "      <td>2008</td>\n",
       "      <td>WD</td>\n",
       "      <td>Normal</td>\n",
       "      <td>147500</td>\n",
       "    </tr>\n",
       "  </tbody>\n",
       "</table>\n",
       "<p>1460 rows × 81 columns</p>\n",
       "</div>"
      ],
      "text/plain": [
       "        Id  MSSubClass MSZoning  LotFrontage  LotArea Street Alley LotShape  \\\n",
       "0        1          60       RL         65.0     8450   Pave   NaN      Reg   \n",
       "1        2          20       RL         80.0     9600   Pave   NaN      Reg   \n",
       "2        3          60       RL         68.0    11250   Pave   NaN      IR1   \n",
       "3        4          70       RL         60.0     9550   Pave   NaN      IR1   \n",
       "4        5          60       RL         84.0    14260   Pave   NaN      IR1   \n",
       "...    ...         ...      ...          ...      ...    ...   ...      ...   \n",
       "1455  1456          60       RL         62.0     7917   Pave   NaN      Reg   \n",
       "1456  1457          20       RL         85.0    13175   Pave   NaN      Reg   \n",
       "1457  1458          70       RL         66.0     9042   Pave   NaN      Reg   \n",
       "1458  1459          20       RL         68.0     9717   Pave   NaN      Reg   \n",
       "1459  1460          20       RL         75.0     9937   Pave   NaN      Reg   \n",
       "\n",
       "     LandContour Utilities  ... PoolArea PoolQC  Fence MiscFeature MiscVal  \\\n",
       "0            Lvl    AllPub  ...        0    NaN    NaN         NaN       0   \n",
       "1            Lvl    AllPub  ...        0    NaN    NaN         NaN       0   \n",
       "2            Lvl    AllPub  ...        0    NaN    NaN         NaN       0   \n",
       "3            Lvl    AllPub  ...        0    NaN    NaN         NaN       0   \n",
       "4            Lvl    AllPub  ...        0    NaN    NaN         NaN       0   \n",
       "...          ...       ...  ...      ...    ...    ...         ...     ...   \n",
       "1455         Lvl    AllPub  ...        0    NaN    NaN         NaN       0   \n",
       "1456         Lvl    AllPub  ...        0    NaN  MnPrv         NaN       0   \n",
       "1457         Lvl    AllPub  ...        0    NaN  GdPrv        Shed    2500   \n",
       "1458         Lvl    AllPub  ...        0    NaN    NaN         NaN       0   \n",
       "1459         Lvl    AllPub  ...        0    NaN    NaN         NaN       0   \n",
       "\n",
       "     MoSold YrSold  SaleType  SaleCondition  SalePrice  \n",
       "0         2   2008        WD         Normal     208500  \n",
       "1         5   2007        WD         Normal     181500  \n",
       "2         9   2008        WD         Normal     223500  \n",
       "3         2   2006        WD        Abnorml     140000  \n",
       "4        12   2008        WD         Normal     250000  \n",
       "...     ...    ...       ...            ...        ...  \n",
       "1455      8   2007        WD         Normal     175000  \n",
       "1456      2   2010        WD         Normal     210000  \n",
       "1457      5   2010        WD         Normal     266500  \n",
       "1458      4   2010        WD         Normal     142125  \n",
       "1459      6   2008        WD         Normal     147500  \n",
       "\n",
       "[1460 rows x 81 columns]"
      ]
     },
     "metadata": {},
     "output_type": "display_data"
    }
   ],
   "source": [
    "dataset = pd.read_csv(\"train.csv\")\n",
    "display(dataset)"
   ]
  },
  {
   "cell_type": "code",
   "execution_count": 4,
   "metadata": {},
   "outputs": [
    {
     "data": {
      "text/html": [
       "<div>\n",
       "<style scoped>\n",
       "    .dataframe tbody tr th:only-of-type {\n",
       "        vertical-align: middle;\n",
       "    }\n",
       "\n",
       "    .dataframe tbody tr th {\n",
       "        vertical-align: top;\n",
       "    }\n",
       "\n",
       "    .dataframe thead th {\n",
       "        text-align: right;\n",
       "    }\n",
       "</style>\n",
       "<table border=\"1\" class=\"dataframe\">\n",
       "  <thead>\n",
       "    <tr style=\"text-align: right;\">\n",
       "      <th></th>\n",
       "      <th>GrLivArea</th>\n",
       "      <th>YearBuilt</th>\n",
       "      <th>SalePrice</th>\n",
       "    </tr>\n",
       "  </thead>\n",
       "  <tbody>\n",
       "    <tr>\n",
       "      <th>0</th>\n",
       "      <td>1710</td>\n",
       "      <td>2003</td>\n",
       "      <td>208500</td>\n",
       "    </tr>\n",
       "    <tr>\n",
       "      <th>1</th>\n",
       "      <td>1262</td>\n",
       "      <td>1976</td>\n",
       "      <td>181500</td>\n",
       "    </tr>\n",
       "    <tr>\n",
       "      <th>2</th>\n",
       "      <td>1786</td>\n",
       "      <td>2001</td>\n",
       "      <td>223500</td>\n",
       "    </tr>\n",
       "    <tr>\n",
       "      <th>3</th>\n",
       "      <td>1717</td>\n",
       "      <td>1915</td>\n",
       "      <td>140000</td>\n",
       "    </tr>\n",
       "    <tr>\n",
       "      <th>4</th>\n",
       "      <td>2198</td>\n",
       "      <td>2000</td>\n",
       "      <td>250000</td>\n",
       "    </tr>\n",
       "    <tr>\n",
       "      <th>...</th>\n",
       "      <td>...</td>\n",
       "      <td>...</td>\n",
       "      <td>...</td>\n",
       "    </tr>\n",
       "    <tr>\n",
       "      <th>1455</th>\n",
       "      <td>1647</td>\n",
       "      <td>1999</td>\n",
       "      <td>175000</td>\n",
       "    </tr>\n",
       "    <tr>\n",
       "      <th>1456</th>\n",
       "      <td>2073</td>\n",
       "      <td>1978</td>\n",
       "      <td>210000</td>\n",
       "    </tr>\n",
       "    <tr>\n",
       "      <th>1457</th>\n",
       "      <td>2340</td>\n",
       "      <td>1941</td>\n",
       "      <td>266500</td>\n",
       "    </tr>\n",
       "    <tr>\n",
       "      <th>1458</th>\n",
       "      <td>1078</td>\n",
       "      <td>1950</td>\n",
       "      <td>142125</td>\n",
       "    </tr>\n",
       "    <tr>\n",
       "      <th>1459</th>\n",
       "      <td>1256</td>\n",
       "      <td>1965</td>\n",
       "      <td>147500</td>\n",
       "    </tr>\n",
       "  </tbody>\n",
       "</table>\n",
       "<p>1460 rows × 3 columns</p>\n",
       "</div>"
      ],
      "text/plain": [
       "      GrLivArea  YearBuilt  SalePrice\n",
       "0          1710       2003     208500\n",
       "1          1262       1976     181500\n",
       "2          1786       2001     223500\n",
       "3          1717       1915     140000\n",
       "4          2198       2000     250000\n",
       "...         ...        ...        ...\n",
       "1455       1647       1999     175000\n",
       "1456       2073       1978     210000\n",
       "1457       2340       1941     266500\n",
       "1458       1078       1950     142125\n",
       "1459       1256       1965     147500\n",
       "\n",
       "[1460 rows x 3 columns]"
      ]
     },
     "metadata": {},
     "output_type": "display_data"
    }
   ],
   "source": [
    "extracted_data = dataset[[\"GrLivArea\", \"YearBuilt\", \"SalePrice\"]]\n",
    "display(extracted_data)"
   ]
  },
  {
   "cell_type": "markdown",
   "metadata": {},
   "source": [
    "# Problem 2"
   ]
  },
  {
   "cell_type": "code",
   "execution_count": 5,
   "metadata": {},
   "outputs": [
    {
     "data": {
      "text/plain": [
       "array([[2392, 1997],\n",
       "       [1991, 1932],\n",
       "       [1118, 1977],\n",
       "       ...,\n",
       "       [2290, 2002],\n",
       "       [1434, 2001],\n",
       "       [1376, 1937]], dtype=int64)"
      ]
     },
     "metadata": {},
     "output_type": "display_data"
    },
    {
     "data": {
      "text/plain": [
       "(1095, 2)"
      ]
     },
     "metadata": {},
     "output_type": "display_data"
    },
    {
     "data": {
      "text/plain": [
       "array([[1192, 1920],\n",
       "       [1173, 1974],\n",
       "       [ 971, 1969],\n",
       "       [1442, 1958],\n",
       "       [1453, 1986],\n",
       "       [1077, 1920],\n",
       "       [1564, 1980],\n",
       "       [ 990, 1994],\n",
       "       [1414, 2004],\n",
       "       [1200, 2004],\n",
       "       [2263, 1998],\n",
       "       [1405, 2003],\n",
       "       [ 952, 1951],\n",
       "       [2108, 1935],\n",
       "       [1400, 1978],\n",
       "       [1360, 1938],\n",
       "       [1710, 2004],\n",
       "       [2267, 2002],\n",
       "       [1824, 1971],\n",
       "       [ 988, 1961],\n",
       "       [1214, 1965],\n",
       "       [2287, 1953],\n",
       "       [ 964, 1921],\n",
       "       [1360, 1984],\n",
       "       [1271, 1948],\n",
       "       [1716, 1962],\n",
       "       [1370, 2006],\n",
       "       [2126, 1967],\n",
       "       [1776, 1958],\n",
       "       [1593, 2004],\n",
       "       [1482, 1925],\n",
       "       [ 912, 1961],\n",
       "       [1022, 1910],\n",
       "       [1200, 1995],\n",
       "       [1212, 2001],\n",
       "       [1690, 2000],\n",
       "       [1656, 2006],\n",
       "       [ 913, 1966],\n",
       "       [1694, 2008],\n",
       "       [1636, 2006],\n",
       "       [1828, 2007],\n",
       "       [1382, 1941],\n",
       "       [1670, 2006],\n",
       "       [1661, 1998],\n",
       "       [1535, 1979],\n",
       "       [1057, 1953],\n",
       "       [ 990, 1994],\n",
       "       [1456, 2006],\n",
       "       [1478, 2009],\n",
       "       [1097, 1994],\n",
       "       [1363, 1951],\n",
       "       [1128, 1954],\n",
       "       [1700, 1959],\n",
       "       [1098, 1955],\n",
       "       [2090, 1995],\n",
       "       [1481, 1994],\n",
       "       [2240, 1979],\n",
       "       [1604, 1997],\n",
       "       [ 694, 1913],\n",
       "       [1644, 1953],\n",
       "       [1739, 1999],\n",
       "       [1122, 1948],\n",
       "       [1784, 1914],\n",
       "       [1339, 1958],\n",
       "       [1720, 2004],\n",
       "       [2136, 1951],\n",
       "       [1069, 1977],\n",
       "       [ 796, 1910],\n",
       "       [2462, 2005],\n",
       "       [1123, 1939],\n",
       "       [1733, 2003],\n",
       "       [1200, 2003],\n",
       "       [ 955, 1966],\n",
       "       [1138, 1958],\n",
       "       [1668, 2003],\n",
       "       [2452, 2004],\n",
       "       [1869, 2007],\n",
       "       [1392, 1977],\n",
       "       [1294, 1900],\n",
       "       [1861, 2002],\n",
       "       [2358, 1908],\n",
       "       [1392, 2007],\n",
       "       [1535, 1979],\n",
       "       [1556, 1968],\n",
       "       [1687, 1948],\n",
       "       [1218, 2009],\n",
       "       [1040, 1950],\n",
       "       [ 985, 1977],\n",
       "       [1442, 1970],\n",
       "       [1895, 1994],\n",
       "       [1196, 1916],\n",
       "       [ 912, 1947],\n",
       "       [1184, 1910],\n",
       "       [1328, 1959],\n",
       "       [1120, 2007],\n",
       "       [1588, 1999],\n",
       "       [2198, 2000],\n",
       "       [1358, 2009],\n",
       "       [ 747, 1926],\n",
       "       [2447, 1919],\n",
       "       [1077, 1939],\n",
       "       [ 972, 1948],\n",
       "       [1824, 1919],\n",
       "       [1872, 2001],\n",
       "       [1844, 1969],\n",
       "       [1838, 2006],\n",
       "       [1620, 1976],\n",
       "       [1548, 1925],\n",
       "       [1560, 2005],\n",
       "       [1344, 1970],\n",
       "       [1576, 1923],\n",
       "       [ 845, 1957],\n",
       "       [ 950, 1971],\n",
       "       [1226, 2009],\n",
       "       [3447, 1935],\n",
       "       [2260, 1996],\n",
       "       [1680, 1915],\n",
       "       [1336, 1920],\n",
       "       [1152, 1955],\n",
       "       [2157, 1966],\n",
       "       [1442, 1990],\n",
       "       [2291, 1910],\n",
       "       [1504, 2005],\n",
       "       [1660, 2002],\n",
       "       [ 960, 1965],\n",
       "       [1394, 2006],\n",
       "       [1244, 1957],\n",
       "       [1790, 1999],\n",
       "       [1221, 2004],\n",
       "       [1964, 1911],\n",
       "       [1111, 1920],\n",
       "       [1114, 2004],\n",
       "       [1368, 2005],\n",
       "       [1608, 1925],\n",
       "       [2236, 1997],\n",
       "       [2524, 1981],\n",
       "       [2020, 2009],\n",
       "       [1911, 1993],\n",
       "       [1800, 2000],\n",
       "       [1256, 1965],\n",
       "       [1108, 1930],\n",
       "       [1298, 1985],\n",
       "       [1374, 1920],\n",
       "       [ 932, 1950],\n",
       "       [1126, 1977],\n",
       "       [1050, 1956],\n",
       "       [1600, 1997],\n",
       "       [2364, 2009],\n",
       "       [2097, 1998],\n",
       "       [1718, 1998],\n",
       "       [2828, 2006],\n",
       "       [1442, 1990],\n",
       "       [1526, 1915],\n",
       "       [ 754, 1935],\n",
       "       [1530, 2004],\n",
       "       [1850, 2004],\n",
       "       [1566, 2008],\n",
       "       [ 936, 1953],\n",
       "       [1142, 1976],\n",
       "       [2320, 1945],\n",
       "       [1629, 2002],\n",
       "       [ 780, 1972],\n",
       "       [1535, 2004],\n",
       "       [1200, 1946],\n",
       "       [ 773, 1953],\n",
       "       [1334, 1977],\n",
       "       [1582, 1964],\n",
       "       [1525, 2000],\n",
       "       [1512, 2000],\n",
       "       [1848, 1923],\n",
       "       [1632, 1998],\n",
       "       [1020, 1875],\n",
       "       [1324, 1936],\n",
       "       [1501, 1999],\n",
       "       [1392, 1968],\n",
       "       [ 789, 1926],\n",
       "       [ 630, 1970],\n",
       "       [1506, 2005],\n",
       "       [2057, 1936],\n",
       "       [ 999, 1962],\n",
       "       [1800, 1961],\n",
       "       [2192, 1939],\n",
       "       [1158, 2004],\n",
       "       [1593, 2001],\n",
       "       [1537, 1962],\n",
       "       [1242, 1973],\n",
       "       [1479, 1976],\n",
       "       [1028, 1927],\n",
       "       [2784, 1978],\n",
       "       [1350, 1974],\n",
       "       [ 616, 1921],\n",
       "       [ 827, 1955],\n",
       "       [1639, 1936],\n",
       "       [1391, 2004],\n",
       "       [ 334, 1946],\n",
       "       [ 672, 1940],\n",
       "       [1419, 2002],\n",
       "       [1630, 2008],\n",
       "       [ 841, 1950],\n",
       "       [1053, 1958],\n",
       "       [2217, 1970],\n",
       "       [1734, 1977],\n",
       "       [1928, 1910],\n",
       "       [3086, 1946],\n",
       "       [1489, 1968],\n",
       "       [1344, 1920],\n",
       "       [1392, 1957],\n",
       "       [ 864, 1959],\n",
       "       [ 860, 1982],\n",
       "       [2013, 1996],\n",
       "       [1466, 1936],\n",
       "       [2110, 1968],\n",
       "       [1578, 1941],\n",
       "       [1092, 1971],\n",
       "       [2822, 2008],\n",
       "       [1651, 1986],\n",
       "       [1740, 1940],\n",
       "       [ 912, 1965],\n",
       "       [1949, 1993],\n",
       "       [2078, 2007],\n",
       "       [ 968, 1923],\n",
       "       [1382, 2000],\n",
       "       [1432, 1910],\n",
       "       [1836, 2004],\n",
       "       [1148, 1952],\n",
       "       [1668, 2002],\n",
       "       [1200, 1965],\n",
       "       [1048, 1950],\n",
       "       [1541, 2001],\n",
       "       [ 774, 1931],\n",
       "       [1276, 1958],\n",
       "       [1584, 1967],\n",
       "       [1319, 1953],\n",
       "       [1116, 1962],\n",
       "       [1656, 1973],\n",
       "       [1218, 1973],\n",
       "       [1959, 1988],\n",
       "       [1646, 2006],\n",
       "       [1689, 2002],\n",
       "       [1983, 1999],\n",
       "       [1362, 1920],\n",
       "       [ 894, 1967],\n",
       "       [1314, 2009],\n",
       "       [1269, 1960],\n",
       "       [1709, 2004],\n",
       "       [ 845, 1982],\n",
       "       [1097, 1984],\n",
       "       [1710, 1921],\n",
       "       [1302, 1972],\n",
       "       [1948, 2004],\n",
       "       [2633, 2001],\n",
       "       [1660, 2006],\n",
       "       [1367, 1931],\n",
       "       [1803, 1957],\n",
       "       [1922, 2003],\n",
       "       [1622, 1961],\n",
       "       [1768, 2003],\n",
       "       [1541, 2005],\n",
       "       [ 848, 2004],\n",
       "       [1052, 1968],\n",
       "       [1552, 1975],\n",
       "       [1690, 1916],\n",
       "       [1701, 1975],\n",
       "       [1230, 1946],\n",
       "       [1664, 1976],\n",
       "       [ 768, 1970],\n",
       "       [1344, 1916],\n",
       "       [ 866, 1945],\n",
       "       [1395, 1972],\n",
       "       [1713, 2004],\n",
       "       [1060, 1968],\n",
       "       [1468, 2008],\n",
       "       [1675, 1999],\n",
       "       [1913, 1928],\n",
       "       [1774, 1900],\n",
       "       [1252, 1908],\n",
       "       [1096, 1924],\n",
       "       [2612, 1998],\n",
       "       [1470, 1997],\n",
       "       [1211, 1968],\n",
       "       [2263, 1977],\n",
       "       [1786, 2001],\n",
       "       [ 999, 1961],\n",
       "       [ 928, 1956],\n",
       "       [1630, 2000],\n",
       "       [3082, 1920],\n",
       "       [2087, 1966],\n",
       "       [1246, 1959],\n",
       "       [2614, 1974],\n",
       "       [1339, 1990],\n",
       "       [1479, 1972],\n",
       "       [ 708, 1940],\n",
       "       [1389, 1974],\n",
       "       [2398, 1996],\n",
       "       [1573, 2000],\n",
       "       [1567, 2006],\n",
       "       [1768, 1937],\n",
       "       [1224, 2009],\n",
       "       [1194, 1959],\n",
       "       [1484, 2005],\n",
       "       [1844, 1977],\n",
       "       [ 988, 1954],\n",
       "       [1558, 1945],\n",
       "       [1510, 1940],\n",
       "       [1396, 1915],\n",
       "       [1221, 1924],\n",
       "       [2576, 2006],\n",
       "       [1509, 2002],\n",
       "       [1839, 1957],\n",
       "       [3238, 1995],\n",
       "       [ 825, 1955],\n",
       "       [1788, 2001],\n",
       "       [1696, 1962],\n",
       "       [2320, 1948],\n",
       "       [1217, 1990],\n",
       "       [2792, 1920],\n",
       "       [1328, 1925],\n",
       "       [1774, 1931],\n",
       "       [1665, 2007],\n",
       "       [1844, 2005],\n",
       "       [ 875, 1931],\n",
       "       [1868, 1984],\n",
       "       [2172, 2006],\n",
       "       [1520, 1955],\n",
       "       [ 974, 1991],\n",
       "       [1829, 2003],\n",
       "       [ 790, 1930],\n",
       "       [1761, 2007],\n",
       "       [1320, 1966],\n",
       "       [1601, 1978],\n",
       "       [1470, 1954],\n",
       "       [1797, 2006],\n",
       "       [1601, 2001],\n",
       "       [1617, 1993],\n",
       "       [1536, 2002],\n",
       "       [ 912, 1978],\n",
       "       [1274, 2005],\n",
       "       [1422, 1960],\n",
       "       [2274, 1960],\n",
       "       [ 605, 1920],\n",
       "       [1768, 2005],\n",
       "       [1250, 1918],\n",
       "       [1456, 1976],\n",
       "       [2008, 1948],\n",
       "       [1573, 1935],\n",
       "       [1664, 1947],\n",
       "       [1707, 1981],\n",
       "       [ 854, 1929],\n",
       "       [2110, 1994],\n",
       "       [1230, 1910],\n",
       "       [1352, 1958],\n",
       "       [1144, 1959],\n",
       "       [ 864, 1972],\n",
       "       [1437, 1976],\n",
       "       [1659, 2000],\n",
       "       [ 987, 1973],\n",
       "       [1302, 1971],\n",
       "       [1164, 1969],\n",
       "       [1124, 1954],\n",
       "       [1683, 1978],\n",
       "       [1971, 2005],\n",
       "       [1601, 1958],\n",
       "       [2713, 2008],\n",
       "       [1668, 1950],\n",
       "       [1310, 1924]], dtype=int64)"
      ]
     },
     "metadata": {},
     "output_type": "display_data"
    },
    {
     "data": {
      "text/plain": [
       "(365, 2)"
      ]
     },
     "metadata": {},
     "output_type": "display_data"
    }
   ],
   "source": [
    "dfX = extracted_data[extracted_data.columns[0:2]]\n",
    "dfY = extracted_data[extracted_data.columns[2]]\n",
    "X = dfX.to_numpy()\n",
    "Y = dfY.to_numpy()\n",
    "X_train, X_test, Y_train, Y_test = train_test_split(X, Y, test_size = 0.25)\n",
    "display(X_train, X_train.shape)\n",
    "display(X_test, X_test.shape)"
   ]
  },
  {
   "cell_type": "code",
   "execution_count": 29,
   "metadata": {},
   "outputs": [
    {
     "data": {
      "text/plain": [
       "LinearRegression()"
      ]
     },
     "execution_count": 29,
     "metadata": {},
     "output_type": "execute_result"
    }
   ],
   "source": [
    "scaler = StandardScaler()\n",
    "scaler.fit(X_train)\n",
    "linear_regression = LinearRegression()\n",
    "linear_regression.fit(X_train, Y_train)"
   ]
  },
  {
   "cell_type": "code",
   "execution_count": 28,
   "metadata": {},
   "outputs": [
    {
     "name": "stdout",
     "output_type": "stream",
     "text": [
      "mean_squared_error: 1796050393.540371\n"
     ]
    }
   ],
   "source": [
    "MSE_linear = mean_squared_error(Y_test, linear_regression.predict(X_test))\n",
    "print(\"mean_squared_error:\", MSE_linear)"
   ]
  },
  {
   "cell_type": "code",
   "execution_count": 41,
   "metadata": {},
   "outputs": [
    {
     "data": {
      "image/png": "[encoded data removed]",
      "text/plain": [
       "<Figure size 432x288 with 1 Axes>"
      ]
     },
     "metadata": {
      "needs_background": "light"
     },
     "output_type": "display_data"
    }
   ],
   "source": [
    "plt.scatter(X_test[:,0], Y_test, color = 'red')\n",
    "plt.scatter(X_test[:,0], linear_regression.predict(X_test), color = 'blue')\n",
    "plt.title('GrLivArea')\n",
    "plt.xlabel('GrLivArea')\n",
    "plt.ylabel('SalePrice')\n",
    "plt.legend([\"X_test\",\"Prediction\"])\n",
    "plt.show()"
   ]
  },
  {
   "cell_type": "code",
   "execution_count": 42,
   "metadata": {},
   "outputs": [
    {
     "data": {
      "image/png": "[encoded data removed]",
      "text/plain": [
       "<Figure size 432x288 with 1 Axes>"
      ]
     },
     "metadata": {
      "needs_background": "light"
     },
     "output_type": "display_data"
    }
   ],
   "source": [
    "plt.scatter(X_test[:,1], Y_test, color = 'red')\n",
    "plt.scatter(X_test[:,1], linear_regression.predict(X_test), color = 'blue')\n",
    "plt.title('YearBuilt')\n",
    "plt.xlabel('YearBuilt')\n",
    "plt.ylabel('SalePrice')\n",
    "plt.legend([\"X_test\",\"Prediction\"])\n",
    "plt.show()"
   ]
  },
  {
   "cell_type": "markdown",
   "metadata": {},
   "source": [
    "# Problem 3"
   ]
  },
  {
   "cell_type": "markdown",
   "metadata": {},
   "source": [
    "## SVR"
   ]
  },
  {
   "cell_type": "code",
   "execution_count": 43,
   "metadata": {},
   "outputs": [
    {
     "data": {
      "text/plain": [
       "SVR()"
      ]
     },
     "execution_count": 43,
     "metadata": {},
     "output_type": "execute_result"
    }
   ],
   "source": [
    "svr = SVR()\n",
    "svr.fit(X_train, Y_train)"
   ]
  },
  {
   "cell_type": "code",
   "execution_count": 44,
   "metadata": {},
   "outputs": [
    {
     "name": "stdout",
     "output_type": "stream",
     "text": [
      "mean_squared_error: 5560117403.361876\n"
     ]
    }
   ],
   "source": [
    "MSE_svr = mean_squared_error(Y_test, svr.predict(X_test))\n",
    "print(\"mean_squared_error:\", MSE_svr)"
   ]
  },
  {
   "cell_type": "code",
   "execution_count": 45,
   "metadata": {},
   "outputs": [
    {
     "data": {
      "image/png": "[encoded data removed]",
      "text/plain": [
       "<Figure size 432x288 with 1 Axes>"
      ]
     },
     "metadata": {
      "needs_background": "light"
     },
     "output_type": "display_data"
    }
   ],
   "source": [
    "plt.scatter(X_test[:,0], Y_test, color = 'red')\n",
    "plt.scatter(X_test[:,0], svr.predict(X_test), color = 'blue')\n",
    "plt.title('GrLivArea')\n",
    "plt.xlabel('GrLivArea')\n",
    "plt.ylabel('SalePrice')\n",
    "plt.legend([\"X_test\",\"Prediction\"])\n",
    "plt.show()"
   ]
  },
  {
   "cell_type": "code",
   "execution_count": 51,
   "metadata": {},
   "outputs": [
    {
     "data": {
      "image/png": "[encoded data removed]",
      "text/plain": [
       "<Figure size 432x288 with 1 Axes>"
      ]
     },
     "metadata": {
      "needs_background": "light"
     },
     "output_type": "display_data"
    }
   ],
   "source": [
    "plt.scatter(X_test[:,1], Y_test, color = 'red')\n",
    "plt.scatter(X_test[:,1], svr.predict(X_test), color = 'blue')\n",
    "plt.title('YearBuilt')\n",
    "plt.xlabel('YearBuilt')\n",
    "plt.ylabel('SalePrice')\n",
    "plt.legend([\"X_test\",\"Prediction\"])\n",
    "plt.show()"
   ]
  },
  {
   "cell_type": "markdown",
   "metadata": {},
   "source": [
    "## Decision Tree Regressor"
   ]
  },
  {
   "cell_type": "code",
   "execution_count": 49,
   "metadata": {},
   "outputs": [
    {
     "data": {
      "text/plain": [
       "DecisionTreeRegressor()"
      ]
     },
     "execution_count": 49,
     "metadata": {},
     "output_type": "execute_result"
    }
   ],
   "source": [
    "decision_tree = DecisionTreeRegressor()\n",
    "decision_tree.fit(X_train, Y_train)"
   ]
  },
  {
   "cell_type": "code",
   "execution_count": 50,
   "metadata": {},
   "outputs": [
    {
     "name": "stdout",
     "output_type": "stream",
     "text": [
      "mean_squared_error: 2223316506.4879756\n"
     ]
    }
   ],
   "source": [
    "MSE_tree = mean_squared_error(Y_test, decision_tree.predict(X_test))\n",
    "print(\"mean_squared_error:\", MSE_tree)"
   ]
  },
  {
   "cell_type": "code",
   "execution_count": 53,
   "metadata": {},
   "outputs": [
    {
     "data": {
      "image/png": "[encoded data removed]",
      "text/plain": [
       "<Figure size 432x288 with 1 Axes>"
      ]
     },
     "metadata": {
      "needs_background": "light"
     },
     "output_type": "display_data"
    }
   ],
   "source": [
    "plt.scatter(X_test[:,0], Y_test, color = 'red')\n",
    "plt.scatter(X_test[:,0], decision_tree.predict(X_test), color = 'blue')\n",
    "plt.title('GrLivArea')\n",
    "plt.xlabel('GrLivArea')\n",
    "plt.ylabel('SalePrice')\n",
    "plt.legend([\"X_test\",\"Prediction\"])\n",
    "plt.show()"
   ]
  },
  {
   "cell_type": "code",
   "execution_count": 54,
   "metadata": {},
   "outputs": [
    {
     "data": {
      "image/png": "[encoded data removed]",
      "text/plain": [
       "<Figure size 432x288 with 1 Axes>"
      ]
     },
     "metadata": {
      "needs_background": "light"
     },
     "output_type": "display_data"
    }
   ],
   "source": [
    "plt.scatter(X_test[:,1], Y_test, color = 'red')\n",
    "plt.scatter(X_test[:,1], decision_tree.predict(X_test), color = 'blue')\n",
    "plt.title('YearBuilt')\n",
    "plt.xlabel('YearBuilt')\n",
    "plt.ylabel('SalePrice')\n",
    "plt.legend([\"X_test\",\"Prediction\"])\n",
    "plt.show()"
   ]
  },
  {
   "cell_type": "markdown",
   "metadata": {},
   "source": [
    "## Random Forest Regressor"
   ]
  },
  {
   "cell_type": "code",
   "execution_count": 55,
   "metadata": {},
   "outputs": [
    {
     "data": {
      "text/plain": [
       "RandomForestRegressor()"
      ]
     },
     "execution_count": 55,
     "metadata": {},
     "output_type": "execute_result"
    }
   ],
   "source": [
    "random_forest = RandomForestRegressor()\n",
    "random_forest.fit(X_train, Y_train)"
   ]
  },
  {
   "cell_type": "code",
   "execution_count": null,
   "metadata": {},
   "outputs": [],
   "source": [
    "MSE_forest = mean_squared_error(Y_test, random_forest.predict(X_test))\n",
    "print(\"mean_squared_error:\", MSE_forest)"
   ]
  },
  {
   "cell_type": "code",
   "execution_count": 58,
   "metadata": {},
   "outputs": [
    {
     "data": {
      "image/png": "[encoded data removed]",
      "text/plain": [
       "<Figure size 432x288 with 1 Axes>"
      ]
     },
     "metadata": {
      "needs_background": "light"
     },
     "output_type": "display_data"
    }
   ],
   "source": [
    "plt.scatter(X_test[:,0], Y_test, color = 'red')\n",
    "plt.scatter(X_test[:,0], random_forest.predict(X_test), color = 'blue')\n",
    "plt.title('GrLivArea')\n",
    "plt.xlabel('GrLivArea')\n",
    "plt.ylabel('SalePrice')\n",
    "plt.legend([\"X_test\",\"Prediction\"])\n",
    "plt.show()"
   ]
  },
  {
   "cell_type": "code",
   "execution_count": 59,
   "metadata": {},
   "outputs": [
    {
     "data": {
      "image/png": "[encoded data removed]",
      "text/plain": [
       "<Figure size 432x288 with 1 Axes>"
      ]
     },
     "metadata": {
      "needs_background": "light"
     },
     "output_type": "display_data"
    }
   ],
   "source": [
    "plt.scatter(X_test[:,1], Y_test, color = 'red')\n",
    "plt.scatter(X_test[:,1], random_forest.predict(X_test), color = 'blue')\n",
    "plt.title('YearBuilt')\n",
    "plt.xlabel('YearBuilt')\n",
    "plt.ylabel('SalePrice')\n",
    "plt.legend([\"X_test\",\"Prediction\"])\n",
    "plt.show()"
   ]
  },
  {
   "cell_type": "code",
   "execution_count": 66,
   "metadata": {},
   "outputs": [
    {
     "data": {
      "text/html": [
       "<div>\n",
       "<style scoped>\n",
       "    .dataframe tbody tr th:only-of-type {\n",
       "        vertical-align: middle;\n",
       "    }\n",
       "\n",
       "    .dataframe tbody tr th {\n",
       "        vertical-align: top;\n",
       "    }\n",
       "\n",
       "    .dataframe thead th {\n",
       "        text-align: right;\n",
       "    }\n",
       "</style>\n",
       "<table border=\"1\" class=\"dataframe\">\n",
       "  <thead>\n",
       "    <tr style=\"text-align: right;\">\n",
       "      <th></th>\n",
       "      <th>Mean Squared Error</th>\n",
       "    </tr>\n",
       "  </thead>\n",
       "  <tbody>\n",
       "    <tr>\n",
       "      <th>Linear regression</th>\n",
       "      <td>1.796050e+09</td>\n",
       "    </tr>\n",
       "    <tr>\n",
       "      <th>SVR</th>\n",
       "      <td>5.560117e+09</td>\n",
       "    </tr>\n",
       "    <tr>\n",
       "      <th>Decision tree</th>\n",
       "      <td>2.223317e+09</td>\n",
       "    </tr>\n",
       "    <tr>\n",
       "      <th>Random forest</th>\n",
       "      <td>1.535728e+09</td>\n",
       "    </tr>\n",
       "  </tbody>\n",
       "</table>\n",
       "</div>"
      ],
      "text/plain": [
       "                   Mean Squared Error\n",
       "Linear regression        1.796050e+09\n",
       "SVR                      5.560117e+09\n",
       "Decision tree            2.223317e+09\n",
       "Random forest            1.535728e+09"
      ]
     },
     "metadata": {},
     "output_type": "display_data"
    }
   ],
   "source": [
    "table = pd.DataFrame(data = [MSE_linear, MSE_svr, MSE_tree, MSE_forest], columns = [\"Mean Squared Error\"])\n",
    "table.index = [\"Linear regression\", \"SVR\", \"Decision tree\", \"Random forest\"]\n",
    "display(table)"
   ]
  },
  {
   "cell_type": "markdown",
   "metadata": {},
   "source": [
    "<blockquote>\n",
    "    <ul>\n",
    "        <li><b>Random Forest</b> has the best index value while <b>Linear Regression</b> comes second follows by <b>Decision Tree</b> and <b>SVR</b></li>\n",
    "        <li>Since <b>Random Forest</b> has the least mean squared error, the blue dots aren't far from the red dot as much as the others.</li>\n",
    "        <li>However, <b>SVR</b> has the most interesting predictions where most of them are on just a few values making them almost as a straight horizontal line.</li>\n",
    "    </ul>\n",
    "</blockquote>"
   ]
  },
  {
   "cell_type": "code",
   "execution_count": null,
   "metadata": {},
   "outputs": [],
   "source": []
  }
 ],
 "metadata": {
  "kernelspec": {
   "display_name": "Python 3",
   "language": "python",
   "name": "python3"
  },
  "language_info": {
   "codemirror_mode": {
    "name": "ipython",
    "version": 3
   },
   "file_extension": ".py",
   "mimetype": "text/x-python",
   "name": "python",
   "nbconvert_exporter": "python",
   "pygments_lexer": "ipython3",
   "version": "3.8.6"
  }
 },
 "nbformat": 4,
 "nbformat_minor": 4
}
