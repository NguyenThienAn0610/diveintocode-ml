{
 "cells": [
  {
   "cell_type": "code",
   "execution_count": 4,
   "metadata": {},
   "outputs": [],
   "source": [
    "import matplotlib.pyplot as plt"
   ]
  },
  {
   "cell_type": "markdown",
   "metadata": {},
   "source": [
    "# Problem 1"
   ]
  },
  {
   "cell_type": "code",
   "execution_count": 8,
   "metadata": {},
   "outputs": [
    {
     "name": "stdout",
     "output_type": "stream",
     "text": [
      "The amount of rice after 100 days 1267650600228229401496703205375 grains of rice\n"
     ]
    },
    {
     "data": {
      "text/plain": [
       "[<matplotlib.lines.Line2D at 0x1bd3e11a0d0>]"
      ]
     },
     "execution_count": 8,
     "metadata": {},
     "output_type": "execute_result"
    },
    {
     "data": {
      "image/png": "[encoded data removed]",
      "text/plain": [
       "<Figure size 432x288 with 1 Axes>"
      ]
     },
     "metadata": {
      "needs_background": "light"
     },
     "output_type": "display_data"
    }
   ],
   "source": [
    "result = 0\n",
    "riceCummulatedEachDay = []\n",
    "for i in range(100):\n",
    "    result = result + 2 ** i\n",
    "    riceCummulatedEachDay.append(result)\n",
    "print(\"The amount of rice after 100 days\", result, \"grains of rice\")\n",
    "plt.title(\"Total grains of rice\")\n",
    "plt.xlabel(\"Day(s)\")\n",
    "plt.ylabel(\"Number of rice\")\n",
    "plt.plot(list(range(1,101)), riceCummulatedEachDay)"
   ]
  },
  {
   "cell_type": "markdown",
   "metadata": {},
   "source": [
    "# Problem 2"
   ]
  },
  {
   "cell_type": "code",
   "execution_count": 11,
   "metadata": {},
   "outputs": [
    {
     "name": "stdout",
     "output_type": "stream",
     "text": [
      "list_n_grains: [1, 2, 4, 8, 16, 32, 64, 128, 256, 512]\n",
      "list_total_grains: [1, 3, 7, 15, 31, 63, 127, 255, 511, 1023]\n"
     ]
    }
   ],
   "source": [
    "def compute_sorori_shinzaemon(day=100):\n",
    "    \"\"\"\n",
    "    A function that verifies the anecdote of rice by Sorori Shinzaemon. Calculate the number of rice grains per day.\n",
    "    Parameteres\n",
    "    --------------\n",
    "    day: int\n",
    "        Number of days to get rice (default : 100)\n",
    "    Returns\n",
    "    --------------\n",
    "    list_n_grains : list\n",
    "        List of the number of rice you get one day (the length of the list is equal to day)\n",
    "    list_total_grains : list\n",
    "        List of the total number of rice you will receive by a certain day (the length of the list will be equal to day)\n",
    "    \"\"\"\n",
    "    rice = 0\n",
    "    list_n_grains = []\n",
    "    list_total_grains = []\n",
    "    # Write the code here. pass is an instruction that means do nothing.\n",
    "    for i in range(day):\n",
    "        rice = rice + 2**i\n",
    "        list_n_grains.append(2**i)\n",
    "        list_total_grains.append(rice)\n",
    "    return list_n_grains, list_total_grains\n",
    "list_n_grains, list_total_grains = compute_sorori_shinzaemon(day=10)\n",
    "print(\"list_n_grains:\", list_n_grains)\n",
    "print(\"list_total_grains:\", list_total_grains)"
   ]
  },
  {
   "cell_type": "markdown",
   "metadata": {},
   "source": [
    "# Problem 3"
   ]
  },
  {
   "cell_type": "code",
   "execution_count": 13,
   "metadata": {},
   "outputs": [
    {
     "name": "stdout",
     "output_type": "stream",
     "text": [
      "People can live for: 20000.0 day(s)\n"
     ]
    }
   ],
   "source": [
    "'''\n",
    "num_of_rice_grains: Number of rice grains given (i choose 19.2 billion)\n",
    "num_of_people: Number of people in the course given (i choose 50)\n",
    "RICEPERDAY: The amount of rice a person consume according to the United Nations' World Food Program\n",
    "\n",
    "I chose 19.2 billion grains of rice since it would leads to a more rounded result\n",
    "I chose 50 people since i am not sure but it's reasonable in the scope of this course\n",
    "I chose 19200 for rice per day because i googled the result and found that the source is fairly reliable\n",
    "'''\n",
    "RICEPERDAY = 19200\n",
    "def cal_days_to_live(num_of_rice_grains, num_of_people):\n",
    "    return num_of_rice_grains / (num_of_people * RICEPERDAY)\n",
    "print(\"People can live for:\", cal_days_to_live(19.2 * 10 ** 9, 50), \"day(s)\")"
   ]
  }
 ],
 "metadata": {
  "kernelspec": {
   "display_name": "Python 3",
   "language": "python",
   "name": "python3"
  },
  "language_info": {
   "codemirror_mode": {
    "name": "ipython",
    "version": 3
   },
   "file_extension": ".py",
   "mimetype": "text/x-python",
   "name": "python",
   "nbconvert_exporter": "python",
   "pygments_lexer": "ipython3",
   "version": "3.8.6"
  }
 },
 "nbformat": 4,
 "nbformat_minor": 4
}
