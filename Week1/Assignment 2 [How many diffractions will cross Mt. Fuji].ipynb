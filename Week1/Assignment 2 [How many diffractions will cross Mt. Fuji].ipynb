{
 "cells": [
  {
   "cell_type": "code",
   "execution_count": 12,
   "metadata": {},
   "outputs": [],
   "source": [
    "import math"
   ]
  },
  {
   "cell_type": "markdown",
   "metadata": {},
   "source": [
    "# Problem 1"
   ]
  },
  {
   "cell_type": "code",
   "execution_count": 13,
   "metadata": {},
   "outputs": [
    {
     "name": "stdout",
     "output_type": "stream",
     "text": [
      "Times the sheet of paper has to fold before its thickness exceeds that of Mt. fuji: 25\n"
     ]
    }
   ],
   "source": [
    "THICKNESS = 0.00008\n",
    "HEIGHT_MTFUJI = 3776\n",
    "fold_times = math.trunc(math.log(HEIGHT_MTFUJI / THICKNESS, 2))\n",
    "print(\"Times the sheet of paper has to fold before its thickness exceeds that of Mt. fuji:\", fold_times)"
   ]
  },
  {
   "cell_type": "markdown",
   "metadata": {},
   "source": [
    "# Problem 2"
   ]
  },
  {
   "cell_type": "code",
   "execution_count": 14,
   "metadata": {},
   "outputs": [
    {
     "name": "stdout",
     "output_type": "stream",
     "text": [
      "You have to bend 69 times.\n"
     ]
    }
   ],
   "source": [
    "# I chose the star Proxima Centauri since according to Google, it's the closest non-sun star\n",
    "DIST_STAR = 4.2465 * 9.4605284 * (10**15) # Light years to meters\n",
    "def cal_bend_times(distance, thickness):\n",
    "    return round(math.log(distance / thickness, 2))\n",
    "print(\"You have to bend\", cal_bend_times(DIST_STAR, 0.00008), \"times.\")"
   ]
  },
  {
   "cell_type": "markdown",
   "metadata": {},
   "source": [
    "# Problem 3"
   ]
  },
  {
   "cell_type": "code",
   "execution_count": 15,
   "metadata": {},
   "outputs": [],
   "source": [
    "def fold_paper(distance, thickness):\n",
    "    bend_times = cal_bend_times(distance, thickness)\n",
    "    return ((math.pi * thickness) / 6) * (2**bend_times + 4) * (2**bend_times - 1)"
   ]
  },
  {
   "cell_type": "code",
   "execution_count": 17,
   "metadata": {},
   "outputs": [
    {
     "name": "stdout",
     "output_type": "stream",
     "text": [
      "Length of paper to reach the Moon: 8.102298610429716e+20 meters\n",
      "Length of paper to reach the top of Mt. Fuji: 47161589230.09706 meters\n",
      "Length of paper to reach the Moon: 1.4595803601100348e+37 meters\n"
     ]
    }
   ],
   "source": [
    "DIST_MOON = 384400 * (10**3)\n",
    "print(\"Length of paper to reach the Moon:\", fold_paper(DIST_MOON, THICKNESS), \"meters\")\n",
    "print(\"Length of paper to reach the top of Mt. Fuji:\", fold_paper(HEIGHT_MTFUJI, THICKNESS), \"meters\")\n",
    "print(\"Length of paper to reach the Moon:\", fold_paper(DIST_STAR, THICKNESS), \"meters\")"
   ]
  }
 ],
 "metadata": {
  "kernelspec": {
   "display_name": "Python 3",
   "language": "python",
   "name": "python3"
  },
  "language_info": {
   "codemirror_mode": {
    "name": "ipython",
    "version": 3
   },
   "file_extension": ".py",
   "mimetype": "text/x-python",
   "name": "python",
   "nbconvert_exporter": "python",
   "pygments_lexer": "ipython3",
   "version": "3.8.6"
  }
 },
 "nbformat": 4,
 "nbformat_minor": 4
}
