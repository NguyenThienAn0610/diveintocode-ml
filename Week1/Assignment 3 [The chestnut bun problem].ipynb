{
 "cells": [
  {
   "cell_type": "code",
   "execution_count": 6,
   "metadata": {},
   "outputs": [
    {
     "name": "stdout",
     "output_type": "stream",
     "text": [
      "You'll need 30000 seconds to cover the Solar System\n",
      "You'll need 4500 seconds to cover the Tokyo Dome\n"
     ]
    }
   ],
   "source": [
    "import math\n",
    "import matplotlib.pyplot as plt\n",
    "# I googled the diameters of chestnut and i decided to choose 3 feet\n",
    "# The diameter of the solar system according to Google is 286.46 billion km\n",
    "DIAMETER_OF_CHESTNUT = 0.9144 # meters\n",
    "DIAMETER_OF_SOLAR_SYSTEM = 287.46 * 10**12 # meters\n",
    "# I assume the chestnut has a spherical shape\n",
    "volumeOfChestnut = (4/3) * math.pi * (DIAMETER_OF_CHESTNUT / 2)**3\n",
    "# I assume the solar system has a spherical shape too\n",
    "volumeOfSolarSystem = (4/3) * math.pi * (DIAMETER_OF_SOLAR_SYSTEM / 2)**3\n",
    "volumeOfTokyoDome = 1.24 * 10**6 # cubic meter\n",
    "def cal_time_till_fully_covered(totalVolume):\n",
    "    sizeIncreaseTimes = round(math.log(totalVolume / volumeOfChestnut))\n",
    "    time = sizeIncreaseTimes * 300\n",
    "    plt\n",
    "    return time\n",
    "print(\"You'll need\", cal_time_till_fully_covered(volumeOfSolarSystem), \"seconds to cover the Solar System\")\n",
    "print(\"You'll need\", cal_time_till_fully_covered(volumeOfTokyoDome), \"seconds to cover the Tokyo Dome\")"
   ]
  }
 ],
 "metadata": {
  "kernelspec": {
   "display_name": "Python 3",
   "language": "python",
   "name": "python3"
  },
  "language_info": {
   "codemirror_mode": {
    "name": "ipython",
    "version": 3
   },
   "file_extension": ".py",
   "mimetype": "text/x-python",
   "name": "python",
   "nbconvert_exporter": "python",
   "pygments_lexer": "ipython3",
   "version": "3.8.6"
  }
 },
 "nbformat": 4,
 "nbformat_minor": 4
}
