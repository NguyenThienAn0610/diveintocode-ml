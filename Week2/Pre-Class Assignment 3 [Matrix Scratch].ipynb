{
 "cells": [
  {
   "cell_type": "code",
   "execution_count": 1,
   "metadata": {},
   "outputs": [],
   "source": [
    "import numpy as np"
   ]
  },
  {
   "cell_type": "markdown",
   "metadata": {},
   "source": [
    "# Problem 1\n",
    ">The formula used in this problem would be<br>\n",
    "$c_{i, j}=\\sum^{2}_{0}a_{i, k}b_{k, j}$<br>\n",
    "For example, the resulting matrix would have a shape of (3, 3) due to the <b>3</b> rows of matrix A and <b>3</b> rows of matrix B. The first index on row 0 and column 0 would be calculated as A\\[0\\]\\[0\\] * B\\[0\\]\\[0\\] + A\\[0\\]\\[1\\] * B.\\[1\\]\\[0\\]  + A\\[0\\]\\[2\\] * B\\[2\\]\\[0\\].<br>\n",
    "The result matrix would be:<br>\n",
    "$$\\begin{bmatrix} 6 & 29 & -20 \\\\ 12 & 52 & 38 \\\\ -18 & -51 & -48 \\end{bmatrix}$$"
   ]
  },
  {
   "cell_type": "markdown",
   "metadata": {},
   "source": [
    "# Problem 2"
   ]
  },
  {
   "cell_type": "code",
   "execution_count": 9,
   "metadata": {},
   "outputs": [
    {
     "name": "stdout",
     "output_type": "stream",
     "text": [
      "[[  6  29 -20]\n",
      " [ 12  52  38]\n",
      " [-18 -51 -48]]\n",
      "[[  6  29 -20]\n",
      " [ 12  52  38]\n",
      " [-18 -51 -48]]\n",
      "[[  6  29 -20]\n",
      " [ 12  52  38]\n",
      " [-18 -51 -48]]\n"
     ]
    }
   ],
   "source": [
    "a_ndarray = np.array([[-1, 2, 3], [4, -5, 6], [7, 8, -9]])\n",
    "b_ndarray = np.array([[0, 2, 1], [0, 2, -8], [2, 9, -1]])\n",
    "matrix_product = a_ndarray @ b_ndarray\n",
    "matrix_product_2 = np.matmul(a_ndarray, b_ndarray)\n",
    "matrix_product_3 = np.dot(a_ndarray, b_ndarray)\n",
    "print(matrix_product)\n",
    "print(matrix_product_2)\n",
    "print(matrix_product_3)"
   ]
  },
  {
   "cell_type": "markdown",
   "metadata": {},
   "source": [
    "# Problem 3"
   ]
  },
  {
   "cell_type": "code",
   "execution_count": 14,
   "metadata": {},
   "outputs": [
    {
     "name": "stdout",
     "output_type": "stream",
     "text": [
      "[[  6.  29. -20.]\n",
      " [ 12.  52.  38.]\n",
      " [-18. -51. -48.]]\n"
     ]
    }
   ],
   "source": [
    "matrix_problem_3 = np.zeros((len(a_ndarray), len(a_ndarray[0])))\n",
    "for i in range(len(a_ndarray)):\n",
    "    for j in range(len(a_ndarray[0])):\n",
    "        matrix_problem_3[i][j] = np.sum(a_ndarray[i] * b_ndarray.T[j])\n",
    "print(matrix_problem_3)"
   ]
  },
  {
   "cell_type": "markdown",
   "metadata": {},
   "source": [
    "# Problem 4"
   ]
  },
  {
   "cell_type": "code",
   "execution_count": 19,
   "metadata": {},
   "outputs": [
    {
     "name": "stdout",
     "output_type": "stream",
     "text": [
      "[[  6.  29. -20.]\n",
      " [ 12.  52.  38.]\n",
      " [-18. -51. -48.]]\n"
     ]
    }
   ],
   "source": [
    "def matrix_mul(A, B):\n",
    "    result = np.zeros((A.shape[0], B.shape[1]))\n",
    "    for i in range(A.shape[0]):\n",
    "        for j in range(B.shape[1]):\n",
    "            result[i][j] = np.sum(A[i] * B.T[j])\n",
    "    return result\n",
    "print(matrix_mul(a_ndarray, b_ndarray))"
   ]
  },
  {
   "cell_type": "markdown",
   "metadata": {},
   "source": [
    "# Problem 5"
   ]
  },
  {
   "cell_type": "code",
   "execution_count": 21,
   "metadata": {},
   "outputs": [
    {
     "name": "stdout",
     "output_type": "stream",
     "text": [
      "[[  6.  29. -20.]\n",
      " [ 12.  52.  38.]\n",
      " [-18. -51. -48.]]\n"
     ]
    }
   ],
   "source": [
    "def matrix_mul_with_error_checking(A, B):\n",
    "    if A.shape[0] == B.shape[1]:\n",
    "        result = np.zeros((A.shape[0], B.shape[1]))\n",
    "        for i in range(A.shape[0]):\n",
    "            for j in range(B.shape[1]):\n",
    "                result[i][j] = np.sum(A[i] * B.T[j])\n",
    "        return result\n",
    "    else:\n",
    "        return \"Wrong shape!\"\n",
    "result = matrix_mul(a_ndarray, b_ndarray)\n",
    "print(result)"
   ]
  },
  {
   "cell_type": "markdown",
   "metadata": {},
   "source": [
    "# Problem 6"
   ]
  },
  {
   "cell_type": "code",
   "execution_count": 22,
   "metadata": {},
   "outputs": [
    {
     "name": "stdout",
     "output_type": "stream",
     "text": [
      "[[  6.  12. -18.]\n",
      " [ 29.  52. -51.]\n",
      " [-20.  38. -48.]]\n"
     ]
    }
   ],
   "source": [
    "if type(result) != str:\n",
    "    print(result.T)"
   ]
  }
 ],
 "metadata": {
  "kernelspec": {
   "display_name": "Python 3",
   "language": "python",
   "name": "python3"
  },
  "language_info": {
   "codemirror_mode": {
    "name": "ipython",
    "version": 3
   },
   "file_extension": ".py",
   "mimetype": "text/x-python",
   "name": "python",
   "nbconvert_exporter": "python",
   "pygments_lexer": "ipython3",
   "version": "3.8.6"
  }
 },
 "nbformat": 4,
 "nbformat_minor": 4
}
